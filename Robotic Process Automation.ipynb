{
 "cells": [
  {
   "cell_type": "code",
   "execution_count": 1,
   "id": "7dc93e5a",
   "metadata": {},
   "outputs": [
    {
     "name": "stdout",
     "output_type": "stream",
     "text": [
      "Collecting seleniumNote: you may need to restart the kernel to use updated packages.\n",
      "\n",
      "  Obtaining dependency information for selenium from https://files.pythonhosted.org/packages/f9/2f/9c6eef6487faca5006ae1ba43cf6ab627c7e3d2a7ec5a3b8728e2105472d/selenium-4.12.0-py3-none-any.whl.metadata\n",
      "  Downloading selenium-4.12.0-py3-none-any.whl.metadata (6.9 kB)\n",
      "Requirement already satisfied: urllib3[socks]<3,>=1.26 in c:\\python311\\lib\\site-packages (from selenium) (2.0.4)\n",
      "Collecting trio~=0.17 (from selenium)\n",
      "  Obtaining dependency information for trio~=0.17 from https://files.pythonhosted.org/packages/a3/dd/b61fa61b186d3267ef3903048fbee29132963ae762fb70b08d4a3cd6f7aa/trio-0.22.2-py3-none-any.whl.metadata\n",
      "  Downloading trio-0.22.2-py3-none-any.whl.metadata (4.7 kB)\n",
      "Collecting trio-websocket~=0.9 (from selenium)\n",
      "  Obtaining dependency information for trio-websocket~=0.9 from https://files.pythonhosted.org/packages/f2/25/868488d8b05104e3d1bf162565bbadd5fe6d62bf903710e6402c3aaceb1e/trio_websocket-0.10.4-py3-none-any.whl.metadata\n",
      "  Downloading trio_websocket-0.10.4-py3-none-any.whl.metadata (4.6 kB)\n",
      "Requirement already satisfied: certifi>=2021.10.8 in c:\\python311\\lib\\site-packages (from selenium) (2023.7.22)\n",
      "Requirement already satisfied: attrs>=20.1.0 in c:\\python311\\lib\\site-packages (from trio~=0.17->selenium) (23.1.0)\n",
      "Collecting sortedcontainers (from trio~=0.17->selenium)\n",
      "  Downloading sortedcontainers-2.4.0-py2.py3-none-any.whl (29 kB)\n",
      "Requirement already satisfied: idna in c:\\python311\\lib\\site-packages (from trio~=0.17->selenium) (3.4)\n",
      "Collecting outcome (from trio~=0.17->selenium)\n",
      "  Downloading outcome-1.2.0-py2.py3-none-any.whl (9.7 kB)\n",
      "Requirement already satisfied: sniffio in c:\\python311\\lib\\site-packages (from trio~=0.17->selenium) (1.3.0)\n",
      "Requirement already satisfied: cffi>=1.14 in c:\\python311\\lib\\site-packages (from trio~=0.17->selenium) (1.15.1)\n",
      "Collecting exceptiongroup (from trio-websocket~=0.9->selenium)\n",
      "  Obtaining dependency information for exceptiongroup from https://files.pythonhosted.org/packages/ad/83/b71e58666f156a39fb29417e4c8ca4bc7400c0dd4ed9e8842ab54dc8c344/exceptiongroup-1.1.3-py3-none-any.whl.metadata\n",
      "  Downloading exceptiongroup-1.1.3-py3-none-any.whl.metadata (6.1 kB)\n",
      "Collecting wsproto>=0.14 (from trio-websocket~=0.9->selenium)\n",
      "  Downloading wsproto-1.2.0-py3-none-any.whl (24 kB)\n",
      "Collecting pysocks!=1.5.7,<2.0,>=1.5.6 (from urllib3[socks]<3,>=1.26->selenium)\n",
      "  Downloading PySocks-1.7.1-py3-none-any.whl (16 kB)\n",
      "Requirement already satisfied: pycparser in c:\\python311\\lib\\site-packages (from cffi>=1.14->trio~=0.17->selenium) (2.21)\n",
      "Collecting h11<1,>=0.9.0 (from wsproto>=0.14->trio-websocket~=0.9->selenium)\n",
      "  Downloading h11-0.14.0-py3-none-any.whl (58 kB)\n",
      "     ---------------------------------------- 0.0/58.3 kB ? eta -:--:--\n",
      "     ---------------------------------------- 58.3/58.3 kB 1.5 MB/s eta 0:00:00\n",
      "Downloading selenium-4.12.0-py3-none-any.whl (9.4 MB)\n",
      "   ---------------------------------------- 0.0/9.4 MB ? eta -:--:--\n",
      "    --------------------------------------- 0.1/9.4 MB 2.4 MB/s eta 0:00:04\n",
      "   - -------------------------------------- 0.4/9.4 MB 3.7 MB/s eta 0:00:03\n",
      "   -- ------------------------------------- 0.6/9.4 MB 3.8 MB/s eta 0:00:03\n",
      "   --- ------------------------------------ 0.7/9.4 MB 3.9 MB/s eta 0:00:03\n",
      "   ---- ----------------------------------- 1.1/9.4 MB 4.8 MB/s eta 0:00:02\n",
      "   ------ --------------------------------- 1.4/9.4 MB 5.0 MB/s eta 0:00:02\n",
      "   ------- -------------------------------- 1.8/9.4 MB 5.3 MB/s eta 0:00:02\n",
      "   -------- ------------------------------- 2.0/9.4 MB 5.5 MB/s eta 0:00:02\n",
      "   --------- ------------------------------ 2.3/9.4 MB 5.5 MB/s eta 0:00:02\n",
      "   ----------- ---------------------------- 2.6/9.4 MB 5.5 MB/s eta 0:00:02\n",
      "   ----------- ---------------------------- 2.8/9.4 MB 5.6 MB/s eta 0:00:02\n",
      "   ------------ --------------------------- 3.0/9.4 MB 5.4 MB/s eta 0:00:02\n",
      "   ------------- -------------------------- 3.2/9.4 MB 5.4 MB/s eta 0:00:02\n",
      "   -------------- ------------------------- 3.3/9.4 MB 5.2 MB/s eta 0:00:02\n",
      "   --------------- ------------------------ 3.7/9.4 MB 5.3 MB/s eta 0:00:02\n",
      "   ---------------- ----------------------- 3.8/9.4 MB 4.9 MB/s eta 0:00:02\n",
      "   ---------------- ----------------------- 3.9/9.4 MB 4.8 MB/s eta 0:00:02\n",
      "   ------------------- -------------------- 4.5/9.4 MB 5.3 MB/s eta 0:00:01\n",
      "   --------------------- ------------------ 5.0/9.4 MB 5.5 MB/s eta 0:00:01\n",
      "   ---------------------- ----------------- 5.2/9.4 MB 5.5 MB/s eta 0:00:01\n",
      "   ----------------------- ---------------- 5.5/9.4 MB 5.5 MB/s eta 0:00:01\n",
      "   ------------------------- -------------- 5.9/9.4 MB 5.6 MB/s eta 0:00:01\n",
      "   --------------------------- ------------ 6.3/9.4 MB 5.8 MB/s eta 0:00:01\n",
      "   ---------------------------- ----------- 6.6/9.4 MB 5.9 MB/s eta 0:00:01\n",
      "   ----------------------------- ---------- 7.0/9.4 MB 5.9 MB/s eta 0:00:01\n",
      "   ------------------------------- -------- 7.3/9.4 MB 5.9 MB/s eta 0:00:01\n",
      "   --------------------------------- ------ 7.9/9.4 MB 6.1 MB/s eta 0:00:01\n",
      "   ----------------------------------- ---- 8.3/9.4 MB 6.3 MB/s eta 0:00:01\n",
      "   ------------------------------------- -- 8.8/9.4 MB 6.4 MB/s eta 0:00:01\n",
      "   ---------------------------------------  9.3/9.4 MB 6.6 MB/s eta 0:00:01\n",
      "   ---------------------------------------  9.3/9.4 MB 6.6 MB/s eta 0:00:01\n",
      "   ---------------------------------------- 9.4/9.4 MB 6.4 MB/s eta 0:00:00\n",
      "Downloading trio-0.22.2-py3-none-any.whl (400 kB)\n",
      "   ---------------------------------------- 0.0/400.2 kB ? eta -:--:--\n",
      "   --------------------------------------- 400.2/400.2 kB 12.6 MB/s eta 0:00:00\n",
      "Downloading trio_websocket-0.10.4-py3-none-any.whl (17 kB)\n",
      "Downloading exceptiongroup-1.1.3-py3-none-any.whl (14 kB)\n",
      "Installing collected packages: sortedcontainers, pysocks, outcome, h11, exceptiongroup, wsproto, trio, trio-websocket, selenium\n",
      "Successfully installed exceptiongroup-1.1.3 h11-0.14.0 outcome-1.2.0 pysocks-1.7.1 selenium-4.12.0 sortedcontainers-2.4.0 trio-0.22.2 trio-websocket-0.10.4 wsproto-1.2.0\n"
     ]
    }
   ],
   "source": [
    "pip install selenium"
   ]
  },
  {
   "cell_type": "code",
   "execution_count": 5,
   "id": "909940e7",
   "metadata": {},
   "outputs": [
    {
     "name": "stdout",
     "output_type": "stream",
     "text": [
      "Collecting webdriver-manager\n",
      "  Obtaining dependency information for webdriver-manager from https://files.pythonhosted.org/packages/19/5a/a16653bfce685c9832217d377f52065351eeac9862e44e2996cd81f3bb4d/webdriver_manager-4.0.0-py2.py3-none-any.whl.metadata\n",
      "  Downloading webdriver_manager-4.0.0-py2.py3-none-any.whl.metadata (11 kB)\n",
      "Requirement already satisfied: requests in c:\\python311\\lib\\site-packages (from webdriver-manager) (2.31.0)\n",
      "Collecting python-dotenv (from webdriver-manager)\n",
      "  Downloading python_dotenv-1.0.0-py3-none-any.whl (19 kB)\n",
      "Requirement already satisfied: packaging in c:\\python311\\lib\\site-packages (from webdriver-manager) (23.1)\n",
      "Requirement already satisfied: charset-normalizer<4,>=2 in c:\\python311\\lib\\site-packages (from requests->webdriver-manager) (3.2.0)\n",
      "Requirement already satisfied: idna<4,>=2.5 in c:\\python311\\lib\\site-packages (from requests->webdriver-manager) (3.4)\n",
      "Requirement already satisfied: urllib3<3,>=1.21.1 in c:\\python311\\lib\\site-packages (from requests->webdriver-manager) (2.0.4)\n",
      "Requirement already satisfied: certifi>=2017.4.17 in c:\\python311\\lib\\site-packages (from requests->webdriver-manager) (2023.7.22)\n",
      "Downloading webdriver_manager-4.0.0-py2.py3-none-any.whl (27 kB)\n",
      "Installing collected packages: python-dotenv, webdriver-manager\n",
      "Successfully installed python-dotenv-1.0.0 webdriver-manager-4.0.0\n"
     ]
    }
   ],
   "source": [
    "!pip install webdriver-manager"
   ]
  },
  {
   "cell_type": "code",
   "execution_count": null,
   "id": "79c26c1b",
   "metadata": {},
   "outputs": [],
   "source": [
    "from selenium import webdriver\n",
    "from selenium.webdriver.chrome.service import Service\n",
    "\n",
    "# assign the driver path\n",
    "driver_path = r\"C:\\Program Files\\Google\\Chrome\\Application\"\n",
    "\n",
    "# create a driver object using driver_path as a parameter\n",
    "#driver = webdriver.Chrome(service = Service(executable_path=driver_path))\n",
    "from selenium import webdriver\n",
    "from selenium.webdriver.chrome.service import Service\n",
    "# import from webdriver_manager (using underscore)\n",
    "from webdriver_manager.chrome import ChromeDriverManager \n",
    "driver = webdriver.Chrome(service = Service(ChromeDriverManager().install()))\n",
    "web = 'https://www.google.com/'\n",
    "driver.get(web)\n",
    "\n",
    "# # import more\n",
    "from selenium.webdriver.common.by import By\n",
    "# # assign any keyword for searching\n",
    "keyword = \"amazon\"\n",
    "# # create WebElement for a search box\n",
    "search_box = driver.find_element(By.ID, 'APjFqb')\n",
    "# # type the keyword in searchbox\n",
    "search_box.send_keys(keyword)\n",
    "search_box.submit()\n",
    "\n",
    "# # create WebElement for a search button\n",
    "search_amazon = driver.find_element(By.CLASS_NAME, 'VuuXrf')\n",
    "search_amazon.click()\n",
    "# # click search_button\n",
    "\n",
    "mobile = \"Mobile\"\n",
    "search_mobile = driver.find_element(By.XPATH, '//*[@id=\"desktop-header-cnt\"]/div[2]/div[3]/a/span')\n",
    "# search_mobile.click()\n",
    "search_mobile.send_keys(mobile)\n",
    "# search_mobile.submit()\n",
    "\n",
    "mobile = \"camara\"\n",
    "search_ = driver.find_element(By.ID, 'twotabsearchtextbox')\n",
    "# search_mobile.click()\n",
    "search_mobile.send_keys(mobile)\n",
    "# search_mobile.click()\n",
    "\n",
    "search_amazon = driver.find_element(By.CLASS_NAME, 's-image')\n",
    "search_amazon.click()\n"
   ]
  },
  {
   "cell_type": "markdown",
   "id": "ce99a024",
   "metadata": {},
   "source": []
  },
  {
   "cell_type": "code",
   "execution_count": 3,
   "id": "ea38456d",
   "metadata": {},
   "outputs": [
    {
     "data": {
      "text/plain": [
       "0"
      ]
     },
     "execution_count": 3,
     "metadata": {},
     "output_type": "execute_result"
    }
   ],
   "source": [
    "import os\n",
    "os.system('cmd /c \"start chrome\" ')"
   ]
  },
  {
   "cell_type": "code",
   "execution_count": null,
   "id": "865ac7db",
   "metadata": {},
   "outputs": [],
   "source": []
  }
 ],
 "metadata": {
  "kernelspec": {
   "display_name": "Python 3 (ipykernel)",
   "language": "python",
   "name": "python3"
  },
  "language_info": {
   "codemirror_mode": {
    "name": "ipython",
    "version": 3
   },
   "file_extension": ".py",
   "mimetype": "text/x-python",
   "name": "python",
   "nbconvert_exporter": "python",
   "pygments_lexer": "ipython3",
   "version": "3.11.5"
  }
 },
 "nbformat": 4,
 "nbformat_minor": 5
}
